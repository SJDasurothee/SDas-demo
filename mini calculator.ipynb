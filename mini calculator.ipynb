{
  "nbformat": 4,
  "nbformat_minor": 0,
  "metadata": {
    "colab": {
      "provenance": [],
      "authorship_tag": "ABX9TyMRDCWl1MmQKlmnXwCmXa24",
      "include_colab_link": true
    },
    "kernelspec": {
      "name": "python3",
      "display_name": "Python 3"
    },
    "language_info": {
      "name": "python"
    }
  },
  "cells": [
    {
      "cell_type": "markdown",
      "metadata": {
        "id": "view-in-github",
        "colab_type": "text"
      },
      "source": [
        "<a href=\"https://colab.research.google.com/github/SJDasurothee/SDas-demo/blob/main/mini%20calculator.ipynb\" target=\"_parent\"><img src=\"https://colab.research.google.com/assets/colab-badge.svg\" alt=\"Open In Colab\"/></a>"
      ]
    },
    {
      "cell_type": "code",
      "execution_count": 1,
      "metadata": {
        "id": "ysx_NPLzyEki",
        "colab": {
          "base_uri": "https://localhost:8080/"
        },
        "outputId": "93829d06-803c-48e4-f3fe-8e2c15003df8"
      },
      "outputs": [
        {
          "output_type": "stream",
          "name": "stdout",
          "text": [
            "Enter first number:5\n",
            "Enter operator (+,-,*,/,%):-\n",
            "Enter second number:6\n",
            "-1\n",
            "Invalid operation\n"
          ]
        }
      ],
      "source": [
        "first = input(\"Enter first number:\")\n",
        "operator = input(\"Enter operator (+,-,*,/,%):\")\n",
        "second = input(\"Enter second number:\")\n",
        "\n",
        "first=int(first)\n",
        "second=int(second)\n",
        "\n",
        "if operator == \"+\":\n",
        "    print(first+second)\n",
        "elif operator == \"-\":\n",
        "    print(first-second)\n",
        "elif operator == \"*\":\n",
        "    print(first*second)\n",
        "elif operator == \"/\":\n",
        "    print(first*second)\n",
        "if operator == \"%\":\n",
        "    print(first%second)\n",
        "else:\n",
        "    print(\"Invalid operation\")\n"
      ]
    }
  ]
}